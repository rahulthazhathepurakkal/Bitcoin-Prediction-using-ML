{
 "cells": [
  {
   "cell_type": "code",
   "execution_count": 5,
   "id": "738d41fd",
   "metadata": {},
   "outputs": [],
   "source": [
    "import pandas as pd\n",
    "import numpy as np\n",
    "import seaborn as sns\n",
    "import matplotlib.pyplot as plt\n",
    "%matplotlib inline"
   ]
  },
  {
   "cell_type": "code",
   "execution_count": 6,
   "id": "5d55dcfc",
   "metadata": {},
   "outputs": [
    {
     "data": {
      "text/html": [
       "<div>\n",
       "<style scoped>\n",
       "    .dataframe tbody tr th:only-of-type {\n",
       "        vertical-align: middle;\n",
       "    }\n",
       "\n",
       "    .dataframe tbody tr th {\n",
       "        vertical-align: top;\n",
       "    }\n",
       "\n",
       "    .dataframe thead th {\n",
       "        text-align: right;\n",
       "    }\n",
       "</style>\n",
       "<table border=\"1\" class=\"dataframe\">\n",
       "  <thead>\n",
       "    <tr style=\"text-align: right;\">\n",
       "      <th></th>\n",
       "      <th>Open</th>\n",
       "      <th>High</th>\n",
       "      <th>Low</th>\n",
       "      <th>Close</th>\n",
       "      <th>Volume</th>\n",
       "      <th>Market Cap</th>\n",
       "    </tr>\n",
       "    <tr>\n",
       "      <th>Date</th>\n",
       "      <th></th>\n",
       "      <th></th>\n",
       "      <th></th>\n",
       "      <th></th>\n",
       "      <th></th>\n",
       "      <th></th>\n",
       "    </tr>\n",
       "  </thead>\n",
       "  <tbody>\n",
       "    <tr>\n",
       "      <th>2022-09-27</th>\n",
       "      <td>19109.881484</td>\n",
       "      <td>19731.875600</td>\n",
       "      <td>18528.601942</td>\n",
       "      <td>19399.488779</td>\n",
       "      <td>1.090170e+11</td>\n",
       "      <td>3.664741e+11</td>\n",
       "    </tr>\n",
       "    <tr>\n",
       "      <th>2022-09-26</th>\n",
       "      <td>19224.758300</td>\n",
       "      <td>20346.161400</td>\n",
       "      <td>18844.264402</td>\n",
       "      <td>19098.479820</td>\n",
       "      <td>9.828891e+10</td>\n",
       "      <td>3.782141e+11</td>\n",
       "    </tr>\n",
       "    <tr>\n",
       "      <th>2022-09-25</th>\n",
       "      <td>18802.699700</td>\n",
       "      <td>19277.511557</td>\n",
       "      <td>18700.551100</td>\n",
       "      <td>19238.753600</td>\n",
       "      <td>6.750901e+10</td>\n",
       "      <td>3.643251e+11</td>\n",
       "    </tr>\n",
       "    <tr>\n",
       "      <th>2022-09-24</th>\n",
       "      <td>18923.498800</td>\n",
       "      <td>19135.629500</td>\n",
       "      <td>18682.763486</td>\n",
       "      <td>18814.051600</td>\n",
       "      <td>4.481175e+10</td>\n",
       "      <td>3.636578e+11</td>\n",
       "    </tr>\n",
       "    <tr>\n",
       "      <th>2022-09-23</th>\n",
       "      <td>19290.279614</td>\n",
       "      <td>19294.627882</td>\n",
       "      <td>18831.329282</td>\n",
       "      <td>18931.734112</td>\n",
       "      <td>7.075885e+10</td>\n",
       "      <td>3.654839e+11</td>\n",
       "    </tr>\n",
       "  </tbody>\n",
       "</table>\n",
       "</div>"
      ],
      "text/plain": [
       "                    Open          High           Low         Close  \\\n",
       "Date                                                                 \n",
       "2022-09-27  19109.881484  19731.875600  18528.601942  19399.488779   \n",
       "2022-09-26  19224.758300  20346.161400  18844.264402  19098.479820   \n",
       "2022-09-25  18802.699700  19277.511557  18700.551100  19238.753600   \n",
       "2022-09-24  18923.498800  19135.629500  18682.763486  18814.051600   \n",
       "2022-09-23  19290.279614  19294.627882  18831.329282  18931.734112   \n",
       "\n",
       "                  Volume    Market Cap  \n",
       "Date                                    \n",
       "2022-09-27  1.090170e+11  3.664741e+11  \n",
       "2022-09-26  9.828891e+10  3.782141e+11  \n",
       "2022-09-25  6.750901e+10  3.643251e+11  \n",
       "2022-09-24  4.481175e+10  3.636578e+11  \n",
       "2022-09-23  7.075885e+10  3.654839e+11  "
      ]
     },
     "execution_count": 6,
     "metadata": {},
     "output_type": "execute_result"
    }
   ],
   "source": [
    "#Reading Our data\n",
    "df = pd.read_csv(\"F:/Machine Learning/Data Sets/bitcoin_2017-08-30_2022-09-29.csv\",parse_dates=['Date'],index_col='Date')\n",
    "df.head()"
   ]
  },
  {
   "cell_type": "code",
   "execution_count": 7,
   "id": "5ca3f878",
   "metadata": {},
   "outputs": [
    {
     "data": {
      "text/html": [
       "<div>\n",
       "<style scoped>\n",
       "    .dataframe tbody tr th:only-of-type {\n",
       "        vertical-align: middle;\n",
       "    }\n",
       "\n",
       "    .dataframe tbody tr th {\n",
       "        vertical-align: top;\n",
       "    }\n",
       "\n",
       "    .dataframe thead th {\n",
       "        text-align: right;\n",
       "    }\n",
       "</style>\n",
       "<table border=\"1\" class=\"dataframe\">\n",
       "  <thead>\n",
       "    <tr style=\"text-align: right;\">\n",
       "      <th></th>\n",
       "      <th>Open</th>\n",
       "      <th>High</th>\n",
       "      <th>Low</th>\n",
       "      <th>Close</th>\n",
       "      <th>Volume</th>\n",
       "      <th>Market Cap</th>\n",
       "    </tr>\n",
       "    <tr>\n",
       "      <th>Date</th>\n",
       "      <th></th>\n",
       "      <th></th>\n",
       "      <th></th>\n",
       "      <th></th>\n",
       "      <th></th>\n",
       "      <th></th>\n",
       "    </tr>\n",
       "  </thead>\n",
       "  <tbody>\n",
       "    <tr>\n",
       "      <th>2017-09-02</th>\n",
       "      <td>4578.77</td>\n",
       "      <td>4714.08</td>\n",
       "      <td>4417.59</td>\n",
       "      <td>4581.11</td>\n",
       "      <td>2.178595e+09</td>\n",
       "      <td>7.580525e+10</td>\n",
       "    </tr>\n",
       "    <tr>\n",
       "      <th>2017-09-01</th>\n",
       "      <td>4892.01</td>\n",
       "      <td>4975.04</td>\n",
       "      <td>4469.24</td>\n",
       "      <td>4568.28</td>\n",
       "      <td>2.868830e+09</td>\n",
       "      <td>7.737363e+10</td>\n",
       "    </tr>\n",
       "    <tr>\n",
       "      <th>2017-08-31</th>\n",
       "      <td>4703.39</td>\n",
       "      <td>4886.73</td>\n",
       "      <td>4678.53</td>\n",
       "      <td>4879.76</td>\n",
       "      <td>2.163654e+09</td>\n",
       "      <td>7.902007e+10</td>\n",
       "    </tr>\n",
       "    <tr>\n",
       "      <th>2017-08-30</th>\n",
       "      <td>4565.30</td>\n",
       "      <td>4736.05</td>\n",
       "      <td>4549.40</td>\n",
       "      <td>4704.98</td>\n",
       "      <td>1.864586e+09</td>\n",
       "      <td>7.666558e+10</td>\n",
       "    </tr>\n",
       "    <tr>\n",
       "      <th>2017-08-29</th>\n",
       "      <td>4579.02</td>\n",
       "      <td>4626.52</td>\n",
       "      <td>4471.41</td>\n",
       "      <td>4568.66</td>\n",
       "      <td>2.360345e+09</td>\n",
       "      <td>7.531005e+10</td>\n",
       "    </tr>\n",
       "  </tbody>\n",
       "</table>\n",
       "</div>"
      ],
      "text/plain": [
       "               Open     High      Low    Close        Volume    Market Cap\n",
       "Date                                                                      \n",
       "2017-09-02  4578.77  4714.08  4417.59  4581.11  2.178595e+09  7.580525e+10\n",
       "2017-09-01  4892.01  4975.04  4469.24  4568.28  2.868830e+09  7.737363e+10\n",
       "2017-08-31  4703.39  4886.73  4678.53  4879.76  2.163654e+09  7.902007e+10\n",
       "2017-08-30  4565.30  4736.05  4549.40  4704.98  1.864586e+09  7.666558e+10\n",
       "2017-08-29  4579.02  4626.52  4471.41  4568.66  2.360345e+09  7.531005e+10"
      ]
     },
     "execution_count": 7,
     "metadata": {},
     "output_type": "execute_result"
    }
   ],
   "source": [
    "df.tail()"
   ]
  },
  {
   "cell_type": "code",
   "execution_count": 8,
   "id": "18639dfa",
   "metadata": {},
   "outputs": [
    {
     "data": {
      "text/html": [
       "<div>\n",
       "<style scoped>\n",
       "    .dataframe tbody tr th:only-of-type {\n",
       "        vertical-align: middle;\n",
       "    }\n",
       "\n",
       "    .dataframe tbody tr th {\n",
       "        vertical-align: top;\n",
       "    }\n",
       "\n",
       "    .dataframe thead th {\n",
       "        text-align: right;\n",
       "    }\n",
       "</style>\n",
       "<table border=\"1\" class=\"dataframe\">\n",
       "  <thead>\n",
       "    <tr style=\"text-align: right;\">\n",
       "      <th></th>\n",
       "      <th>Open</th>\n",
       "      <th>High</th>\n",
       "      <th>Low</th>\n",
       "      <th>Close</th>\n",
       "      <th>Volume</th>\n",
       "      <th>Market Cap</th>\n",
       "    </tr>\n",
       "    <tr>\n",
       "      <th>Date</th>\n",
       "      <th></th>\n",
       "      <th></th>\n",
       "      <th></th>\n",
       "      <th></th>\n",
       "      <th></th>\n",
       "      <th></th>\n",
       "    </tr>\n",
       "  </thead>\n",
       "  <tbody>\n",
       "    <tr>\n",
       "      <th>2017-08-29</th>\n",
       "      <td>4579.02</td>\n",
       "      <td>4626.52</td>\n",
       "      <td>4471.41</td>\n",
       "      <td>4568.66</td>\n",
       "      <td>2.360345e+09</td>\n",
       "      <td>7.531005e+10</td>\n",
       "    </tr>\n",
       "    <tr>\n",
       "      <th>2017-08-30</th>\n",
       "      <td>4565.30</td>\n",
       "      <td>4736.05</td>\n",
       "      <td>4549.40</td>\n",
       "      <td>4704.98</td>\n",
       "      <td>1.864586e+09</td>\n",
       "      <td>7.666558e+10</td>\n",
       "    </tr>\n",
       "    <tr>\n",
       "      <th>2017-08-31</th>\n",
       "      <td>4703.39</td>\n",
       "      <td>4886.73</td>\n",
       "      <td>4678.53</td>\n",
       "      <td>4879.76</td>\n",
       "      <td>2.163654e+09</td>\n",
       "      <td>7.902007e+10</td>\n",
       "    </tr>\n",
       "    <tr>\n",
       "      <th>2017-09-01</th>\n",
       "      <td>4892.01</td>\n",
       "      <td>4975.04</td>\n",
       "      <td>4469.24</td>\n",
       "      <td>4568.28</td>\n",
       "      <td>2.868830e+09</td>\n",
       "      <td>7.737363e+10</td>\n",
       "    </tr>\n",
       "    <tr>\n",
       "      <th>2017-09-02</th>\n",
       "      <td>4578.77</td>\n",
       "      <td>4714.08</td>\n",
       "      <td>4417.59</td>\n",
       "      <td>4581.11</td>\n",
       "      <td>2.178595e+09</td>\n",
       "      <td>7.580525e+10</td>\n",
       "    </tr>\n",
       "  </tbody>\n",
       "</table>\n",
       "</div>"
      ],
      "text/plain": [
       "               Open     High      Low    Close        Volume    Market Cap\n",
       "Date                                                                      \n",
       "2017-08-29  4579.02  4626.52  4471.41  4568.66  2.360345e+09  7.531005e+10\n",
       "2017-08-30  4565.30  4736.05  4549.40  4704.98  1.864586e+09  7.666558e+10\n",
       "2017-08-31  4703.39  4886.73  4678.53  4879.76  2.163654e+09  7.902007e+10\n",
       "2017-09-01  4892.01  4975.04  4469.24  4568.28  2.868830e+09  7.737363e+10\n",
       "2017-09-02  4578.77  4714.08  4417.59  4581.11  2.178595e+09  7.580525e+10"
      ]
     },
     "execution_count": 8,
     "metadata": {},
     "output_type": "execute_result"
    }
   ],
   "source": [
    "btc=df.iloc[::-1]\n",
    "btc.head()"
   ]
  },
  {
   "cell_type": "code",
   "execution_count": 9,
   "id": "2570cd1f",
   "metadata": {},
   "outputs": [
    {
     "name": "stderr",
     "output_type": "stream",
     "text": [
      "C:\\Users\\DELL\\AppData\\Local\\Temp\\ipykernel_2076\\1471929781.py:1: SettingWithCopyWarning: \n",
      "A value is trying to be set on a copy of a slice from a DataFrame\n",
      "\n",
      "See the caveats in the documentation: https://pandas.pydata.org/pandas-docs/stable/user_guide/indexing.html#returning-a-view-versus-a-copy\n",
      "  btc.drop(['Volume','Market Cap'],axis=1,inplace=True)#Just dropping columns here!\n"
     ]
    },
    {
     "data": {
      "text/html": [
       "<div>\n",
       "<style scoped>\n",
       "    .dataframe tbody tr th:only-of-type {\n",
       "        vertical-align: middle;\n",
       "    }\n",
       "\n",
       "    .dataframe tbody tr th {\n",
       "        vertical-align: top;\n",
       "    }\n",
       "\n",
       "    .dataframe thead th {\n",
       "        text-align: right;\n",
       "    }\n",
       "</style>\n",
       "<table border=\"1\" class=\"dataframe\">\n",
       "  <thead>\n",
       "    <tr style=\"text-align: right;\">\n",
       "      <th></th>\n",
       "      <th>Open</th>\n",
       "      <th>High</th>\n",
       "      <th>Low</th>\n",
       "      <th>Close</th>\n",
       "    </tr>\n",
       "    <tr>\n",
       "      <th>Date</th>\n",
       "      <th></th>\n",
       "      <th></th>\n",
       "      <th></th>\n",
       "      <th></th>\n",
       "    </tr>\n",
       "  </thead>\n",
       "  <tbody>\n",
       "    <tr>\n",
       "      <th>2017-08-29</th>\n",
       "      <td>4579.02</td>\n",
       "      <td>4626.52</td>\n",
       "      <td>4471.41</td>\n",
       "      <td>4568.66</td>\n",
       "    </tr>\n",
       "    <tr>\n",
       "      <th>2017-08-30</th>\n",
       "      <td>4565.30</td>\n",
       "      <td>4736.05</td>\n",
       "      <td>4549.40</td>\n",
       "      <td>4704.98</td>\n",
       "    </tr>\n",
       "    <tr>\n",
       "      <th>2017-08-31</th>\n",
       "      <td>4703.39</td>\n",
       "      <td>4886.73</td>\n",
       "      <td>4678.53</td>\n",
       "      <td>4879.76</td>\n",
       "    </tr>\n",
       "    <tr>\n",
       "      <th>2017-09-01</th>\n",
       "      <td>4892.01</td>\n",
       "      <td>4975.04</td>\n",
       "      <td>4469.24</td>\n",
       "      <td>4568.28</td>\n",
       "    </tr>\n",
       "    <tr>\n",
       "      <th>2017-09-02</th>\n",
       "      <td>4578.77</td>\n",
       "      <td>4714.08</td>\n",
       "      <td>4417.59</td>\n",
       "      <td>4581.11</td>\n",
       "    </tr>\n",
       "  </tbody>\n",
       "</table>\n",
       "</div>"
      ],
      "text/plain": [
       "               Open     High      Low    Close\n",
       "Date                                          \n",
       "2017-08-29  4579.02  4626.52  4471.41  4568.66\n",
       "2017-08-30  4565.30  4736.05  4549.40  4704.98\n",
       "2017-08-31  4703.39  4886.73  4678.53  4879.76\n",
       "2017-09-01  4892.01  4975.04  4469.24  4568.28\n",
       "2017-09-02  4578.77  4714.08  4417.59  4581.11"
      ]
     },
     "execution_count": 9,
     "metadata": {},
     "output_type": "execute_result"
    }
   ],
   "source": [
    "btc.drop(['Volume','Market Cap'],axis=1,inplace=True)#Just dropping columns here!\n",
    "btc.head()"
   ]
  },
  {
   "cell_type": "code",
   "execution_count": 10,
   "id": "bc7a9eda",
   "metadata": {},
   "outputs": [
    {
     "data": {
      "text/plain": [
       "Open     False\n",
       "High     False\n",
       "Low      False\n",
       "Close    False\n",
       "dtype: bool"
      ]
     },
     "execution_count": 10,
     "metadata": {},
     "output_type": "execute_result"
    }
   ],
   "source": [
    "btc.isnull().any()#We don't have any NaN values luckily"
   ]
  },
  {
   "cell_type": "code",
   "execution_count": 11,
   "id": "f73c655c",
   "metadata": {},
   "outputs": [
    {
     "data": {
      "text/plain": [
       "(1856, 4)"
      ]
     },
     "execution_count": 11,
     "metadata": {},
     "output_type": "execute_result"
    }
   ],
   "source": [
    "btc.shape "
   ]
  },
  {
   "cell_type": "code",
   "execution_count": 12,
   "id": "4f190a56",
   "metadata": {},
   "outputs": [
    {
     "data": {
      "text/html": [
       "<div>\n",
       "<style scoped>\n",
       "    .dataframe tbody tr th:only-of-type {\n",
       "        vertical-align: middle;\n",
       "    }\n",
       "\n",
       "    .dataframe tbody tr th {\n",
       "        vertical-align: top;\n",
       "    }\n",
       "\n",
       "    .dataframe thead th {\n",
       "        text-align: right;\n",
       "    }\n",
       "</style>\n",
       "<table border=\"1\" class=\"dataframe\">\n",
       "  <thead>\n",
       "    <tr style=\"text-align: right;\">\n",
       "      <th></th>\n",
       "      <th>Open</th>\n",
       "      <th>High</th>\n",
       "      <th>Low</th>\n",
       "      <th>Close</th>\n",
       "    </tr>\n",
       "    <tr>\n",
       "      <th>Date</th>\n",
       "      <th></th>\n",
       "      <th></th>\n",
       "      <th></th>\n",
       "      <th></th>\n",
       "    </tr>\n",
       "  </thead>\n",
       "  <tbody>\n",
       "    <tr>\n",
       "      <th>2022-09-23</th>\n",
       "      <td>19290.279614</td>\n",
       "      <td>19294.627882</td>\n",
       "      <td>18831.329282</td>\n",
       "      <td>18931.734112</td>\n",
       "    </tr>\n",
       "    <tr>\n",
       "      <th>2022-09-24</th>\n",
       "      <td>18923.498800</td>\n",
       "      <td>19135.629500</td>\n",
       "      <td>18682.763486</td>\n",
       "      <td>18814.051600</td>\n",
       "    </tr>\n",
       "    <tr>\n",
       "      <th>2022-09-25</th>\n",
       "      <td>18802.699700</td>\n",
       "      <td>19277.511557</td>\n",
       "      <td>18700.551100</td>\n",
       "      <td>19238.753600</td>\n",
       "    </tr>\n",
       "    <tr>\n",
       "      <th>2022-09-26</th>\n",
       "      <td>19224.758300</td>\n",
       "      <td>20346.161400</td>\n",
       "      <td>18844.264402</td>\n",
       "      <td>19098.479820</td>\n",
       "    </tr>\n",
       "    <tr>\n",
       "      <th>2022-09-27</th>\n",
       "      <td>19109.881484</td>\n",
       "      <td>19731.875600</td>\n",
       "      <td>18528.601942</td>\n",
       "      <td>19399.488779</td>\n",
       "    </tr>\n",
       "  </tbody>\n",
       "</table>\n",
       "</div>"
      ],
      "text/plain": [
       "                    Open          High           Low         Close\n",
       "Date                                                              \n",
       "2022-09-23  19290.279614  19294.627882  18831.329282  18931.734112\n",
       "2022-09-24  18923.498800  19135.629500  18682.763486  18814.051600\n",
       "2022-09-25  18802.699700  19277.511557  18700.551100  19238.753600\n",
       "2022-09-26  19224.758300  20346.161400  18844.264402  19098.479820\n",
       "2022-09-27  19109.881484  19731.875600  18528.601942  19399.488779"
      ]
     },
     "execution_count": 12,
     "metadata": {},
     "output_type": "execute_result"
    }
   ],
   "source": [
    "btc.tail()"
   ]
  },
  {
   "cell_type": "code",
   "execution_count": 13,
   "id": "f51af8e8",
   "metadata": {},
   "outputs": [
    {
     "data": {
      "text/plain": [
       "<matplotlib.legend.Legend at 0x19356ba0cd0>"
      ]
     },
     "execution_count": 13,
     "metadata": {},
     "output_type": "execute_result"
    },
    {
     "data": {
      "image/png": "[encoded data removed]",
      "text/plain": [
       "<Figure size 864x432 with 1 Axes>"
      ]
     },
     "metadata": {},
     "output_type": "display_data"
    }
   ],
   "source": [
    "sns.set()\n",
    "sns.set_style('whitegrid')\n",
    "btc['Close'].plot(figsize=(12,6),label='Close')\n",
    "btc['Close'].rolling(window=30).mean().plot(label='30 Day Avg')# Plotting the \n",
    "#rolling 30 day average against the Close Price\n",
    "plt.legend()"
   ]
  },
  {
   "cell_type": "code",
   "execution_count": 14,
   "id": "22446502",
   "metadata": {},
   "outputs": [
    {
     "name": "stderr",
     "output_type": "stream",
     "text": [
      "C:\\Users\\DELL\\AppData\\Local\\Temp\\ipykernel_2076\\2563831694.py:1: SettingWithCopyWarning: \n",
      "A value is trying to be set on a copy of a slice from a DataFrame.\n",
      "Try using .loc[row_indexer,col_indexer] = value instead\n",
      "\n",
      "See the caveats in the documentation: https://pandas.pydata.org/pandas-docs/stable/user_guide/indexing.html#returning-a-view-versus-a-copy\n",
      "  btc['ohlc_average'] = (btc['Open'] + btc['High'] + btc['Low'] + btc['Close']) / 4\n"
     ]
    }
   ],
   "source": [
    "btc['ohlc_average'] = (btc['Open'] + btc['High'] + btc['Low'] + btc['Close']) / 4"
   ]
  },
  {
   "cell_type": "code",
   "execution_count": 15,
   "id": "cd6dac2a",
   "metadata": {},
   "outputs": [
    {
     "data": {
      "text/html": [
       "<div>\n",
       "<style scoped>\n",
       "    .dataframe tbody tr th:only-of-type {\n",
       "        vertical-align: middle;\n",
       "    }\n",
       "\n",
       "    .dataframe tbody tr th {\n",
       "        vertical-align: top;\n",
       "    }\n",
       "\n",
       "    .dataframe thead th {\n",
       "        text-align: right;\n",
       "    }\n",
       "</style>\n",
       "<table border=\"1\" class=\"dataframe\">\n",
       "  <thead>\n",
       "    <tr style=\"text-align: right;\">\n",
       "      <th></th>\n",
       "      <th>Open</th>\n",
       "      <th>High</th>\n",
       "      <th>Low</th>\n",
       "      <th>Close</th>\n",
       "      <th>ohlc_average</th>\n",
       "    </tr>\n",
       "    <tr>\n",
       "      <th>Date</th>\n",
       "      <th></th>\n",
       "      <th></th>\n",
       "      <th></th>\n",
       "      <th></th>\n",
       "      <th></th>\n",
       "    </tr>\n",
       "  </thead>\n",
       "  <tbody>\n",
       "    <tr>\n",
       "      <th>2017-08-29</th>\n",
       "      <td>4579.02</td>\n",
       "      <td>4626.52</td>\n",
       "      <td>4471.41</td>\n",
       "      <td>4568.66</td>\n",
       "      <td>4561.4025</td>\n",
       "    </tr>\n",
       "    <tr>\n",
       "      <th>2017-08-30</th>\n",
       "      <td>4565.30</td>\n",
       "      <td>4736.05</td>\n",
       "      <td>4549.40</td>\n",
       "      <td>4704.98</td>\n",
       "      <td>4638.9325</td>\n",
       "    </tr>\n",
       "    <tr>\n",
       "      <th>2017-08-31</th>\n",
       "      <td>4703.39</td>\n",
       "      <td>4886.73</td>\n",
       "      <td>4678.53</td>\n",
       "      <td>4879.76</td>\n",
       "      <td>4787.1025</td>\n",
       "    </tr>\n",
       "    <tr>\n",
       "      <th>2017-09-01</th>\n",
       "      <td>4892.01</td>\n",
       "      <td>4975.04</td>\n",
       "      <td>4469.24</td>\n",
       "      <td>4568.28</td>\n",
       "      <td>4726.1425</td>\n",
       "    </tr>\n",
       "    <tr>\n",
       "      <th>2017-09-02</th>\n",
       "      <td>4578.77</td>\n",
       "      <td>4714.08</td>\n",
       "      <td>4417.59</td>\n",
       "      <td>4581.11</td>\n",
       "      <td>4572.8875</td>\n",
       "    </tr>\n",
       "  </tbody>\n",
       "</table>\n",
       "</div>"
      ],
      "text/plain": [
       "               Open     High      Low    Close  ohlc_average\n",
       "Date                                                        \n",
       "2017-08-29  4579.02  4626.52  4471.41  4568.66     4561.4025\n",
       "2017-08-30  4565.30  4736.05  4549.40  4704.98     4638.9325\n",
       "2017-08-31  4703.39  4886.73  4678.53  4879.76     4787.1025\n",
       "2017-09-01  4892.01  4975.04  4469.24  4568.28     4726.1425\n",
       "2017-09-02  4578.77  4714.08  4417.59  4581.11     4572.8875"
      ]
     },
     "execution_count": 15,
     "metadata": {},
     "output_type": "execute_result"
    }
   ],
   "source": [
    "btc.head()"
   ]
  },
  {
   "cell_type": "code",
   "execution_count": 16,
   "id": "bb96b6bf",
   "metadata": {},
   "outputs": [],
   "source": [
    "btc['Price_After_Month']=btc['Close'].shift(-30) #This will be our label"
   ]
  },
  {
   "cell_type": "code",
   "execution_count": 17,
   "id": "4f23eae3",
   "metadata": {},
   "outputs": [
    {
     "data": {
      "text/html": [
       "<div>\n",
       "<style scoped>\n",
       "    .dataframe tbody tr th:only-of-type {\n",
       "        vertical-align: middle;\n",
       "    }\n",
       "\n",
       "    .dataframe tbody tr th {\n",
       "        vertical-align: top;\n",
       "    }\n",
       "\n",
       "    .dataframe thead th {\n",
       "        text-align: right;\n",
       "    }\n",
       "</style>\n",
       "<table border=\"1\" class=\"dataframe\">\n",
       "  <thead>\n",
       "    <tr style=\"text-align: right;\">\n",
       "      <th></th>\n",
       "      <th>Open</th>\n",
       "      <th>High</th>\n",
       "      <th>Low</th>\n",
       "      <th>Close</th>\n",
       "      <th>ohlc_average</th>\n",
       "      <th>Price_After_Month</th>\n",
       "    </tr>\n",
       "    <tr>\n",
       "      <th>Date</th>\n",
       "      <th></th>\n",
       "      <th></th>\n",
       "      <th></th>\n",
       "      <th></th>\n",
       "      <th></th>\n",
       "      <th></th>\n",
       "    </tr>\n",
       "  </thead>\n",
       "  <tbody>\n",
       "    <tr>\n",
       "      <th>2017-08-29</th>\n",
       "      <td>4579.02</td>\n",
       "      <td>4626.52</td>\n",
       "      <td>4471.41</td>\n",
       "      <td>4568.66</td>\n",
       "      <td>4561.4025</td>\n",
       "      <td>4128.299491</td>\n",
       "    </tr>\n",
       "    <tr>\n",
       "      <th>2017-08-30</th>\n",
       "      <td>4565.30</td>\n",
       "      <td>4736.05</td>\n",
       "      <td>4549.40</td>\n",
       "      <td>4704.98</td>\n",
       "      <td>4638.9325</td>\n",
       "      <td>4312.820213</td>\n",
       "    </tr>\n",
       "    <tr>\n",
       "      <th>2017-08-31</th>\n",
       "      <td>4703.39</td>\n",
       "      <td>4886.73</td>\n",
       "      <td>4678.53</td>\n",
       "      <td>4879.76</td>\n",
       "      <td>4787.1025</td>\n",
       "      <td>4361.139973</td>\n",
       "    </tr>\n",
       "    <tr>\n",
       "      <th>2017-09-01</th>\n",
       "      <td>4892.01</td>\n",
       "      <td>4975.04</td>\n",
       "      <td>4469.24</td>\n",
       "      <td>4568.28</td>\n",
       "      <td>4726.1425</td>\n",
       "      <td>4384.188461</td>\n",
       "    </tr>\n",
       "    <tr>\n",
       "      <th>2017-09-02</th>\n",
       "      <td>4578.77</td>\n",
       "      <td>4714.08</td>\n",
       "      <td>4417.59</td>\n",
       "      <td>4581.11</td>\n",
       "      <td>4572.8875</td>\n",
       "      <td>4311.980091</td>\n",
       "    </tr>\n",
       "  </tbody>\n",
       "</table>\n",
       "</div>"
      ],
      "text/plain": [
       "               Open     High      Low    Close  ohlc_average  \\\n",
       "Date                                                           \n",
       "2017-08-29  4579.02  4626.52  4471.41  4568.66     4561.4025   \n",
       "2017-08-30  4565.30  4736.05  4549.40  4704.98     4638.9325   \n",
       "2017-08-31  4703.39  4886.73  4678.53  4879.76     4787.1025   \n",
       "2017-09-01  4892.01  4975.04  4469.24  4568.28     4726.1425   \n",
       "2017-09-02  4578.77  4714.08  4417.59  4581.11     4572.8875   \n",
       "\n",
       "            Price_After_Month  \n",
       "Date                           \n",
       "2017-08-29        4128.299491  \n",
       "2017-08-30        4312.820213  \n",
       "2017-08-31        4361.139973  \n",
       "2017-09-01        4384.188461  \n",
       "2017-09-02        4311.980091  "
      ]
     },
     "execution_count": 17,
     "metadata": {},
     "output_type": "execute_result"
    }
   ],
   "source": [
    "btc.head()"
   ]
  },
  {
   "cell_type": "code",
   "execution_count": 18,
   "id": "76d5c653",
   "metadata": {},
   "outputs": [
    {
     "data": {
      "text/html": [
       "<div>\n",
       "<style scoped>\n",
       "    .dataframe tbody tr th:only-of-type {\n",
       "        vertical-align: middle;\n",
       "    }\n",
       "\n",
       "    .dataframe tbody tr th {\n",
       "        vertical-align: top;\n",
       "    }\n",
       "\n",
       "    .dataframe thead th {\n",
       "        text-align: right;\n",
       "    }\n",
       "</style>\n",
       "<table border=\"1\" class=\"dataframe\">\n",
       "  <thead>\n",
       "    <tr style=\"text-align: right;\">\n",
       "      <th></th>\n",
       "      <th>Open</th>\n",
       "      <th>High</th>\n",
       "      <th>Low</th>\n",
       "      <th>Close</th>\n",
       "      <th>ohlc_average</th>\n",
       "      <th>Price_After_Month</th>\n",
       "    </tr>\n",
       "    <tr>\n",
       "      <th>Date</th>\n",
       "      <th></th>\n",
       "      <th></th>\n",
       "      <th></th>\n",
       "      <th></th>\n",
       "      <th></th>\n",
       "      <th></th>\n",
       "    </tr>\n",
       "  </thead>\n",
       "  <tbody>\n",
       "    <tr>\n",
       "      <th>2022-09-23</th>\n",
       "      <td>19290.279614</td>\n",
       "      <td>19294.627882</td>\n",
       "      <td>18831.329282</td>\n",
       "      <td>18931.734112</td>\n",
       "      <td>19086.992722</td>\n",
       "      <td>NaN</td>\n",
       "    </tr>\n",
       "    <tr>\n",
       "      <th>2022-09-24</th>\n",
       "      <td>18923.498800</td>\n",
       "      <td>19135.629500</td>\n",
       "      <td>18682.763486</td>\n",
       "      <td>18814.051600</td>\n",
       "      <td>18888.985846</td>\n",
       "      <td>NaN</td>\n",
       "    </tr>\n",
       "    <tr>\n",
       "      <th>2022-09-25</th>\n",
       "      <td>18802.699700</td>\n",
       "      <td>19277.511557</td>\n",
       "      <td>18700.551100</td>\n",
       "      <td>19238.753600</td>\n",
       "      <td>19004.878989</td>\n",
       "      <td>NaN</td>\n",
       "    </tr>\n",
       "    <tr>\n",
       "      <th>2022-09-26</th>\n",
       "      <td>19224.758300</td>\n",
       "      <td>20346.161400</td>\n",
       "      <td>18844.264402</td>\n",
       "      <td>19098.479820</td>\n",
       "      <td>19378.415981</td>\n",
       "      <td>NaN</td>\n",
       "    </tr>\n",
       "    <tr>\n",
       "      <th>2022-09-27</th>\n",
       "      <td>19109.881484</td>\n",
       "      <td>19731.875600</td>\n",
       "      <td>18528.601942</td>\n",
       "      <td>19399.488779</td>\n",
       "      <td>19192.461951</td>\n",
       "      <td>NaN</td>\n",
       "    </tr>\n",
       "  </tbody>\n",
       "</table>\n",
       "</div>"
      ],
      "text/plain": [
       "                    Open          High           Low         Close  \\\n",
       "Date                                                                 \n",
       "2022-09-23  19290.279614  19294.627882  18831.329282  18931.734112   \n",
       "2022-09-24  18923.498800  19135.629500  18682.763486  18814.051600   \n",
       "2022-09-25  18802.699700  19277.511557  18700.551100  19238.753600   \n",
       "2022-09-26  19224.758300  20346.161400  18844.264402  19098.479820   \n",
       "2022-09-27  19109.881484  19731.875600  18528.601942  19399.488779   \n",
       "\n",
       "            ohlc_average  Price_After_Month  \n",
       "Date                                         \n",
       "2022-09-23  19086.992722                NaN  \n",
       "2022-09-24  18888.985846                NaN  \n",
       "2022-09-25  19004.878989                NaN  \n",
       "2022-09-26  19378.415981                NaN  \n",
       "2022-09-27  19192.461951                NaN  "
      ]
     },
     "execution_count": 18,
     "metadata": {},
     "output_type": "execute_result"
    }
   ],
   "source": [
    "btc.tail()#We basically moved all our values 30 lines up in our last cell"
   ]
  },
  {
   "cell_type": "code",
   "execution_count": 19,
   "id": "5509a637",
   "metadata": {},
   "outputs": [],
   "source": [
    "btc.dropna(inplace=True)\n",
    "X=btc.drop('Price_After_Month',axis=1)\n",
    "y=btc['Price_After_Month']"
   ]
  },
  {
   "cell_type": "code",
   "execution_count": 20,
   "id": "79838a0f",
   "metadata": {},
   "outputs": [],
   "source": [
    "from sklearn.preprocessing import StandardScaler\n",
    "sc=StandardScaler()\n",
    "X=sc.fit_transform(X)"
   ]
  },
  {
   "cell_type": "code",
   "execution_count": 21,
   "id": "a1b11b2e",
   "metadata": {},
   "outputs": [],
   "source": [
    "from sklearn.model_selection import train_test_split\n",
    "X_train,X_test,y_train,y_test=train_test_split(X,y,test_size=0.2,random_state=0)"
   ]
  },
  {
   "cell_type": "markdown",
   "id": "5cd88eaf",
   "metadata": {},
   "source": [
    "## Model Selection"
   ]
  },
  {
   "cell_type": "code",
   "execution_count": 22,
   "id": "40a46dc4",
   "metadata": {},
   "outputs": [
    {
     "data": {
      "text/html": [
       "<style>#sk-container-id-1 {color: black;background-color: white;}#sk-container-id-1 pre{padding: 0;}#sk-container-id-1 div.sk-toggleable {background-color: white;}#sk-container-id-1 label.sk-toggleable__label {cursor: pointer;display: block;width: 100%;margin-bottom: 0;padding: 0.3em;box-sizing: border-box;text-align: center;}#sk-container-id-1 label.sk-toggleable__label-arrow:before {content: \"▸\";float: left;margin-right: 0.25em;color: #696969;}#sk-container-id-1 label.sk-toggleable__label-arrow:hover:before {color: black;}#sk-container-id-1 div.sk-estimator:hover label.sk-toggleable__label-arrow:before {color: black;}#sk-container-id-1 div.sk-toggleable__content {max-height: 0;max-width: 0;overflow: hidden;text-align: left;background-color: #f0f8ff;}#sk-container-id-1 div.sk-toggleable__content pre {margin: 0.2em;color: black;border-radius: 0.25em;background-color: #f0f8ff;}#sk-container-id-1 input.sk-toggleable__control:checked~div.sk-toggleable__content {max-height: 200px;max-width: 100%;overflow: auto;}#sk-container-id-1 input.sk-toggleable__control:checked~label.sk-toggleable__label-arrow:before {content: \"▾\";}#sk-container-id-1 div.sk-estimator input.sk-toggleable__control:checked~label.sk-toggleable__label {background-color: #d4ebff;}#sk-container-id-1 div.sk-label input.sk-toggleable__control:checked~label.sk-toggleable__label {background-color: #d4ebff;}#sk-container-id-1 input.sk-hidden--visually {border: 0;clip: rect(1px 1px 1px 1px);clip: rect(1px, 1px, 1px, 1px);height: 1px;margin: -1px;overflow: hidden;padding: 0;position: absolute;width: 1px;}#sk-container-id-1 div.sk-estimator {font-family: monospace;background-color: #f0f8ff;border: 1px dotted black;border-radius: 0.25em;box-sizing: border-box;margin-bottom: 0.5em;}#sk-container-id-1 div.sk-estimator:hover {background-color: #d4ebff;}#sk-container-id-1 div.sk-parallel-item::after {content: \"\";width: 100%;border-bottom: 1px solid gray;flex-grow: 1;}#sk-container-id-1 div.sk-label:hover label.sk-toggleable__label {background-color: #d4ebff;}#sk-container-id-1 div.sk-serial::before {content: \"\";position: absolute;border-left: 1px solid gray;box-sizing: border-box;top: 0;bottom: 0;left: 50%;z-index: 0;}#sk-container-id-1 div.sk-serial {display: flex;flex-direction: column;align-items: center;background-color: white;padding-right: 0.2em;padding-left: 0.2em;position: relative;}#sk-container-id-1 div.sk-item {position: relative;z-index: 1;}#sk-container-id-1 div.sk-parallel {display: flex;align-items: stretch;justify-content: center;background-color: white;position: relative;}#sk-container-id-1 div.sk-item::before, #sk-container-id-1 div.sk-parallel-item::before {content: \"\";position: absolute;border-left: 1px solid gray;box-sizing: border-box;top: 0;bottom: 0;left: 50%;z-index: -1;}#sk-container-id-1 div.sk-parallel-item {display: flex;flex-direction: column;z-index: 1;position: relative;background-color: white;}#sk-container-id-1 div.sk-parallel-item:first-child::after {align-self: flex-end;width: 50%;}#sk-container-id-1 div.sk-parallel-item:last-child::after {align-self: flex-start;width: 50%;}#sk-container-id-1 div.sk-parallel-item:only-child::after {width: 0;}#sk-container-id-1 div.sk-dashed-wrapped {border: 1px dashed gray;margin: 0 0.4em 0.5em 0.4em;box-sizing: border-box;padding-bottom: 0.4em;background-color: white;}#sk-container-id-1 div.sk-label label {font-family: monospace;font-weight: bold;display: inline-block;line-height: 1.2em;}#sk-container-id-1 div.sk-label-container {text-align: center;}#sk-container-id-1 div.sk-container {/* jupyter's `normalize.less` sets `[hidden] { display: none; }` but bootstrap.min.css set `[hidden] { display: none !important; }` so we also need the `!important` here to be able to override the default hidden behavior on the sphinx rendered scikit-learn.org. See: https://github.com/scikit-learn/scikit-learn/issues/21755 */display: inline-block !important;position: relative;}#sk-container-id-1 div.sk-text-repr-fallback {display: none;}</style><div id=\"sk-container-id-1\" class=\"sk-top-container\"><div class=\"sk-text-repr-fallback\"><pre>GradientBoostingRegressor(max_depth=1, random_state=0)</pre><b>In a Jupyter environment, please rerun this cell to show the HTML representation or trust the notebook. <br />On GitHub, the HTML representation is unable to render, please try loading this page with nbviewer.org.</b></div><div class=\"sk-container\" hidden><div class=\"sk-item\"><div class=\"sk-estimator sk-toggleable\"><input class=\"sk-toggleable__control sk-hidden--visually\" id=\"sk-estimator-id-1\" type=\"checkbox\" checked><label for=\"sk-estimator-id-1\" class=\"sk-toggleable__label sk-toggleable__label-arrow\">GradientBoostingRegressor</label><div class=\"sk-toggleable__content\"><pre>GradientBoostingRegressor(max_depth=1, random_state=0)</pre></div></div></div></div></div>"
      ],
      "text/plain": [
       "GradientBoostingRegressor(max_depth=1, random_state=0)"
      ]
     },
     "execution_count": 22,
     "metadata": {},
     "output_type": "execute_result"
    }
   ],
   "source": [
    "from sklearn.ensemble import GradientBoostingRegressor\n",
    "gbr=GradientBoostingRegressor(n_estimators=100,max_depth=1,learning_rate=0.1,random_state=0)\n",
    "gbr.fit(X_train,y_train)"
   ]
  },
  {
   "cell_type": "code",
   "execution_count": 23,
   "id": "b68c3ae6",
   "metadata": {},
   "outputs": [
    {
     "data": {
      "text/plain": [
       "0.9112569824172054"
      ]
     },
     "execution_count": 23,
     "metadata": {},
     "output_type": "execute_result"
    }
   ],
   "source": [
    "accuracy=gbr.score(X_test,y_test)\n",
    "accuracy"
   ]
  },
  {
   "cell_type": "code",
   "execution_count": 24,
   "id": "8a1cef4f",
   "metadata": {},
   "outputs": [],
   "source": [
    "pred2=gbr.predict(X_test)"
   ]
  },
  {
   "cell_type": "code",
   "execution_count": 25,
   "id": "efd0272c",
   "metadata": {},
   "outputs": [
    {
     "name": "stdout",
     "output_type": "stream",
     "text": [
      "The prediction is: 9097.017086993623 But the real value is: 7502.033156435\n"
     ]
    }
   ],
   "source": [
    "print(\"The prediction is:\",pred2[1],\"But the real value is:\" ,y_test[1])"
   ]
  },
  {
   "cell_type": "code",
   "execution_count": 26,
   "id": "f563a653",
   "metadata": {},
   "outputs": [
    {
     "name": "stderr",
     "output_type": "stream",
     "text": [
      "C:\\Users\\DELL\\PycharmProjects\\pythonProject\\venv\\lib\\site-packages\\sklearn\\base.py:450: UserWarning: X does not have valid feature names, but StandardScaler was fitted with feature names\n",
      "  warnings.warn(\n"
     ]
    },
    {
     "data": {
      "text/plain": [
       "array([24315.19644027])"
      ]
     },
     "execution_count": 26,
     "metadata": {},
     "output_type": "execute_result"
    }
   ],
   "source": [
    "gbr.predict(sc.transform([[\t19109.881484,19731.875600,18528.601942,19399.488779,19192.461951]]))"
   ]
  },
  {
   "cell_type": "code",
   "execution_count": null,
   "id": "453522d2",
   "metadata": {},
   "outputs": [],
   "source": []
  }
 ],
 "metadata": {
  "kernelspec": {
   "display_name": "Python 3 (ipykernel)",
   "language": "python",
   "name": "python3"
  },
  "language_info": {
   "codemirror_mode": {
    "name": "ipython",
    "version": 3
   },
   "file_extension": ".py",
   "mimetype": "text/x-python",
   "name": "python",
   "nbconvert_exporter": "python",
   "pygments_lexer": "ipython3",
   "version": "3.10.4"
  }
 },
 "nbformat": 4,
 "nbformat_minor": 5
}
